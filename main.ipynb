{
 "cells": [
  {
   "cell_type": "markdown",
   "metadata": {},
   "source": [
    "# SARS-CoV-2 Variants Classification using Machine Learning"
   ]
  },
  {
   "cell_type": "markdown",
   "metadata": {},
   "source": [
    "## Setup"
   ]
  },
  {
   "cell_type": "markdown",
   "metadata": {},
   "source": [
    "### Importing libraries"
   ]
  },
  {
   "cell_type": "code",
   "execution_count": 1,
   "metadata": {},
   "outputs": [],
   "source": [
    "import numpy as np\n",
    "import pandas as pd\n",
    "import os \n",
    "import utilities as utils\n",
    "from sklearn.model_selection import KFold\n",
    "from sklearn.metrics import accuracy_score\n",
    "from sklearn.ensemble import RandomForestClassifier\n",
    "import pandas as pd"
   ]
  },
  {
   "cell_type": "markdown",
   "metadata": {},
   "source": [
    "## Data Engineering"
   ]
  },
  {
   "cell_type": "markdown",
   "metadata": {},
   "source": [
    "### Data wrangling and cleaning"
   ]
  },
  {
   "cell_type": "code",
   "execution_count": 2,
   "metadata": {},
   "outputs": [],
   "source": [
    "path = os.path.join('Asn2DataSet','TrainingDataset')\n",
    "alphas = [utils.read_sequence(os.path.join(path, 'Alpha', seq)) for seq in os.listdir(os.path.join(path,'Alpha'))]\n",
    "alphas = utils.clean_fasta(alphas)\n",
    "betas = [utils.read_sequence(os.path.join(path, 'Beta', seq)) for seq in os.listdir(os.path.join(path,'Beta'))]\n",
    "betas = utils.clean_fasta(betas)\n",
    "deltas = [utils.read_sequence(os.path.join(path, 'Delta', seq)) for seq in os.listdir(os.path.join(path,'Delta'))]\n",
    "deltas = utils.clean_fasta(deltas)\n",
    "gammas = [utils.read_sequence(os.path.join(path, 'Gamma', seq)) for seq in os.listdir(os.path.join(path,'Gamma'))]\n",
    "gammas = utils.clean_fasta(gammas)"
   ]
  },
  {
   "cell_type": "markdown",
   "metadata": {},
   "source": [
    "### Data pre-processing"
   ]
  },
  {
   "cell_type": "code",
   "execution_count": 3,
   "metadata": {},
   "outputs": [],
   "source": [
    "cgrs = []\n",
    "labels = []\n",
    "for seq in alphas:\n",
    "    tmp = utils.cgr(seq, 'ACGT', 7)\n",
    "    cgrs.append(tmp)\n",
    "    labels.append('Alpha')\n",
    "\n",
    "for seq in betas:\n",
    "    tmp = utils.cgr(seq, 'ACGT', 7)\n",
    "    cgrs.append(tmp)\n",
    "    labels.append('Beta')\n",
    "\n",
    "for seq in deltas:\n",
    "    tmp = utils.cgr(seq, 'ACGT', 7)\n",
    "    cgrs.append(tmp)\n",
    "    labels.append('Delta')\n",
    "\n",
    "for seq in gammas:\n",
    "    tmp = utils.cgr(seq, 'ACGT', 7)\n",
    "    cgrs.append(tmp)\n",
    "    labels.append('Gamma')\n",
    "\n",
    "cgrs = np.array(cgrs)\n",
    "labels = np.array(labels)"
   ]
  },
  {
   "cell_type": "code",
   "execution_count": 4,
   "metadata": {},
   "outputs": [],
   "source": [
    "cgr_vectors = np.array([mat.flatten() for mat in cgrs])\n",
    "normalized_cgr_vectors = np.array([vector/np.max(vector) for vector in cgr_vectors])"
   ]
  },
  {
   "cell_type": "code",
   "execution_count": 5,
   "metadata": {},
   "outputs": [],
   "source": [
    "label_map = {label: i for i,label in enumerate(np.unique(labels))}\n",
    "dummy_labels = np.array([label_map[lab] for lab in labels])\n",
    "numerical_to_label = {val: key for key,val in label_map.items()}"
   ]
  },
  {
   "cell_type": "markdown",
   "metadata": {},
   "source": [
    "## Machine Learning"
   ]
  },
  {
   "cell_type": "markdown",
   "metadata": {},
   "source": [
    "### Model Selection"
   ]
  },
  {
   "cell_type": "code",
   "execution_count": 6,
   "metadata": {},
   "outputs": [],
   "source": [
    "clf_rf = RandomForestClassifier(criterion='gini',max_depth=3)\n",
    "FOLDS = 10\n",
    "kf = KFold(n_splits=FOLDS, shuffle=True, random_state=99)"
   ]
  },
  {
   "cell_type": "markdown",
   "metadata": {},
   "source": [
    "### Model Evaluation"
   ]
  },
  {
   "cell_type": "code",
   "execution_count": 7,
   "metadata": {},
   "outputs": [],
   "source": [
    "accs_rf = []\n",
    "for train_i, test_j in kf.split(normalized_cgr_vectors):\n",
    "    X_train, X_test = normalized_cgr_vectors[train_i], normalized_cgr_vectors[test_j]\n",
    "    y_train, y_test = dummy_labels[train_i], dummy_labels[test_j]\n",
    "    clf_rf.fit(X_train, y_train)\n",
    "    y_preds = clf_rf.predict(X_test)\n",
    "    accuracy = 100*accuracy_score(y_test, y_preds)\n",
    "    accs_rf.append(accuracy)"
   ]
  },
  {
   "cell_type": "code",
   "execution_count": 8,
   "metadata": {},
   "outputs": [
    {
     "name": "stdout",
     "output_type": "stream",
     "text": [
      "Fold 1: 100.0\n",
      "Fold 2: 100.0\n",
      "Fold 3: 100.0\n",
      "Fold 4: 100.0\n",
      "Fold 5: 100.0\n",
      "Fold 6: 100.0\n",
      "Fold 7: 100.0\n",
      "Fold 8: 100.0\n",
      "Fold 9: 100.0\n",
      "Fold 10: 100.0\n"
     ]
    }
   ],
   "source": [
    "for i,score in enumerate(accs_rf):\n",
    "    print(f'Fold {i+1}: {score}')"
   ]
  },
  {
   "cell_type": "code",
   "execution_count": 9,
   "metadata": {},
   "outputs": [
    {
     "name": "stdout",
     "output_type": "stream",
     "text": [
      "The average accuracy of the model is: 100.0%\n"
     ]
    }
   ],
   "source": [
    "print(f'The average accuracy of the model is: {np.mean(accs_rf)}%')"
   ]
  },
  {
   "cell_type": "markdown",
   "metadata": {},
   "source": [
    "### Model Training"
   ]
  },
  {
   "cell_type": "code",
   "execution_count": 10,
   "metadata": {},
   "outputs": [
    {
     "data": {
      "text/html": [
       "<style>#sk-container-id-1 {color: black;}#sk-container-id-1 pre{padding: 0;}#sk-container-id-1 div.sk-toggleable {background-color: white;}#sk-container-id-1 label.sk-toggleable__label {cursor: pointer;display: block;width: 100%;margin-bottom: 0;padding: 0.3em;box-sizing: border-box;text-align: center;}#sk-container-id-1 label.sk-toggleable__label-arrow:before {content: \"▸\";float: left;margin-right: 0.25em;color: #696969;}#sk-container-id-1 label.sk-toggleable__label-arrow:hover:before {color: black;}#sk-container-id-1 div.sk-estimator:hover label.sk-toggleable__label-arrow:before {color: black;}#sk-container-id-1 div.sk-toggleable__content {max-height: 0;max-width: 0;overflow: hidden;text-align: left;background-color: #f0f8ff;}#sk-container-id-1 div.sk-toggleable__content pre {margin: 0.2em;color: black;border-radius: 0.25em;background-color: #f0f8ff;}#sk-container-id-1 input.sk-toggleable__control:checked~div.sk-toggleable__content {max-height: 200px;max-width: 100%;overflow: auto;}#sk-container-id-1 input.sk-toggleable__control:checked~label.sk-toggleable__label-arrow:before {content: \"▾\";}#sk-container-id-1 div.sk-estimator input.sk-toggleable__control:checked~label.sk-toggleable__label {background-color: #d4ebff;}#sk-container-id-1 div.sk-label input.sk-toggleable__control:checked~label.sk-toggleable__label {background-color: #d4ebff;}#sk-container-id-1 input.sk-hidden--visually {border: 0;clip: rect(1px 1px 1px 1px);clip: rect(1px, 1px, 1px, 1px);height: 1px;margin: -1px;overflow: hidden;padding: 0;position: absolute;width: 1px;}#sk-container-id-1 div.sk-estimator {font-family: monospace;background-color: #f0f8ff;border: 1px dotted black;border-radius: 0.25em;box-sizing: border-box;margin-bottom: 0.5em;}#sk-container-id-1 div.sk-estimator:hover {background-color: #d4ebff;}#sk-container-id-1 div.sk-parallel-item::after {content: \"\";width: 100%;border-bottom: 1px solid gray;flex-grow: 1;}#sk-container-id-1 div.sk-label:hover label.sk-toggleable__label {background-color: #d4ebff;}#sk-container-id-1 div.sk-serial::before {content: \"\";position: absolute;border-left: 1px solid gray;box-sizing: border-box;top: 0;bottom: 0;left: 50%;z-index: 0;}#sk-container-id-1 div.sk-serial {display: flex;flex-direction: column;align-items: center;background-color: white;padding-right: 0.2em;padding-left: 0.2em;position: relative;}#sk-container-id-1 div.sk-item {position: relative;z-index: 1;}#sk-container-id-1 div.sk-parallel {display: flex;align-items: stretch;justify-content: center;background-color: white;position: relative;}#sk-container-id-1 div.sk-item::before, #sk-container-id-1 div.sk-parallel-item::before {content: \"\";position: absolute;border-left: 1px solid gray;box-sizing: border-box;top: 0;bottom: 0;left: 50%;z-index: -1;}#sk-container-id-1 div.sk-parallel-item {display: flex;flex-direction: column;z-index: 1;position: relative;background-color: white;}#sk-container-id-1 div.sk-parallel-item:first-child::after {align-self: flex-end;width: 50%;}#sk-container-id-1 div.sk-parallel-item:last-child::after {align-self: flex-start;width: 50%;}#sk-container-id-1 div.sk-parallel-item:only-child::after {width: 0;}#sk-container-id-1 div.sk-dashed-wrapped {border: 1px dashed gray;margin: 0 0.4em 0.5em 0.4em;box-sizing: border-box;padding-bottom: 0.4em;background-color: white;}#sk-container-id-1 div.sk-label label {font-family: monospace;font-weight: bold;display: inline-block;line-height: 1.2em;}#sk-container-id-1 div.sk-label-container {text-align: center;}#sk-container-id-1 div.sk-container {/* jupyter's `normalize.less` sets `[hidden] { display: none; }` but bootstrap.min.css set `[hidden] { display: none !important; }` so we also need the `!important` here to be able to override the default hidden behavior on the sphinx rendered scikit-learn.org. See: https://github.com/scikit-learn/scikit-learn/issues/21755 */display: inline-block !important;position: relative;}#sk-container-id-1 div.sk-text-repr-fallback {display: none;}</style><div id=\"sk-container-id-1\" class=\"sk-top-container\"><div class=\"sk-text-repr-fallback\"><pre>RandomForestClassifier(max_depth=3)</pre><b>In a Jupyter environment, please rerun this cell to show the HTML representation or trust the notebook. <br />On GitHub, the HTML representation is unable to render, please try loading this page with nbviewer.org.</b></div><div class=\"sk-container\" hidden><div class=\"sk-item\"><div class=\"sk-estimator sk-toggleable\"><input class=\"sk-toggleable__control sk-hidden--visually\" id=\"sk-estimator-id-1\" type=\"checkbox\" checked><label for=\"sk-estimator-id-1\" class=\"sk-toggleable__label sk-toggleable__label-arrow\">RandomForestClassifier</label><div class=\"sk-toggleable__content\"><pre>RandomForestClassifier(max_depth=3)</pre></div></div></div></div></div>"
      ],
      "text/plain": [
       "RandomForestClassifier(max_depth=3)"
      ]
     },
     "execution_count": 10,
     "metadata": {},
     "output_type": "execute_result"
    }
   ],
   "source": [
    "clf_rf.fit(normalized_cgr_vectors, dummy_labels)"
   ]
  },
  {
   "cell_type": "markdown",
   "metadata": {},
   "source": [
    "## Testing"
   ]
  },
  {
   "cell_type": "code",
   "execution_count": 11,
   "metadata": {},
   "outputs": [],
   "source": [
    "test_seqs = []\n",
    "paths = os.path.join('Asn2DataSet', 'TestingDataset')\n",
    "\n",
    "testing_path = os.listdir(os.path.join('Asn2DataSet','TestingDataset'))\n",
    "for fasta in testing_path:\n",
    "    test_seqs.append(utils.read_sequence(os.path.join(paths, fasta)))\n",
    "test_seqs = utils.clean_fasta(test_seqs)\n",
    "test_cgrs = [utils.cgr(seq, 'ACGT', 7) for seq in test_seqs]\n",
    "cgr_vectors_test = np.array([mat.flatten() for mat in test_cgrs])\n",
    "normalized_cgr_vectors_test = np.array([vector/np.max(vector) for vector in cgr_vectors_test])"
   ]
  },
  {
   "cell_type": "markdown",
   "metadata": {},
   "source": [
    "## Reporting"
   ]
  },
  {
   "cell_type": "code",
   "execution_count": 12,
   "metadata": {},
   "outputs": [
    {
     "name": "stdout",
     "output_type": "stream",
     "text": [
      "Predicted label for 1.fasta: Beta\n",
      "Predicted label for 2.fasta: Gamma\n",
      "Predicted label for 3.fasta: Beta\n",
      "Predicted label for 4.fasta: Gamma\n",
      "Predicted label for 5.fasta: Gamma\n",
      "Predicted label for 6.fasta: Delta\n",
      "Predicted label for 7.fasta: Delta\n",
      "Predicted label for 8.fasta: Gamma\n",
      "Predicted label for 9.fasta: Delta\n",
      "Predicted label for 10.fasta: Delta\n"
     ]
    }
   ],
   "source": [
    "preds = clf_rf.predict(normalized_cgr_vectors_test)\n",
    "for i,pred in enumerate(preds):\n",
    "    print(f'Predicted label for {i+1}.fasta: {numerical_to_label[pred]}')"
   ]
  }
 ],
 "metadata": {
  "kernelspec": {
   "display_name": "data_science",
   "language": "python",
   "name": "python3"
  },
  "language_info": {
   "codemirror_mode": {
    "name": "ipython",
    "version": 3
   },
   "file_extension": ".py",
   "mimetype": "text/x-python",
   "name": "python",
   "nbconvert_exporter": "python",
   "pygments_lexer": "ipython3",
   "version": "3.12.2"
  }
 },
 "nbformat": 4,
 "nbformat_minor": 2
}
